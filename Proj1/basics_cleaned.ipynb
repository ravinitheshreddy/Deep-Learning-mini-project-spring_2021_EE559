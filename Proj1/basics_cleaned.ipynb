{
 "cells": [
  {
   "cell_type": "code",
   "execution_count": 1,
   "metadata": {},
   "outputs": [],
   "source": [
    "# PyTorch imports\n",
    "import torch\n",
    "from torch import nn\n",
    "from torch import optim\n",
    "from torch.nn import functional as F\n",
    "# DLC Practical prologue\n",
    "import dlc_practical_prologue as prologue"
   ]
  },
  {
   "cell_type": "markdown",
   "metadata": {},
   "source": [
    "# Load Data"
   ]
  },
  {
   "cell_type": "code",
   "execution_count": 2,
   "metadata": {},
   "outputs": [],
   "source": [
    "N = 1000\n",
    "train_input, train_target, train_classes, test_input, test_target, test_classes = prologue.generate_pair_sets(N)"
   ]
  },
  {
   "cell_type": "code",
   "execution_count": 3,
   "metadata": {},
   "outputs": [
    {
     "name": "stdout",
     "output_type": "stream",
     "text": [
      "Train input: torch.Size([1000, 2, 14, 14])\n",
      "Train target: torch.Size([1000])\n",
      "Train classes: torch.Size([1000, 2])\n",
      "... Same for test too\n"
     ]
    }
   ],
   "source": [
    "# Data sizes for reference\n",
    "print('Train input:', train_input.size())\n",
    "print('Train target:', train_target.size())\n",
    "print('Train classes:', train_classes.size())\n",
    "print('... Same for test too')"
   ]
  },
  {
   "cell_type": "markdown",
   "metadata": {},
   "source": [
    "# Model Architectures"
   ]
  },
  {
   "cell_type": "markdown",
   "metadata": {},
   "source": [
    "### Baseline Convolutional Model"
   ]
  },
  {
   "cell_type": "markdown",
   "metadata": {},
   "source": [
    "For Conv2D, MaxPool2D => See sizing rules on PyTorch page.\n",
    "\n",
    "| Datasize | Operation      |\n",
    "| ---------| ---------------|\n",
    "| 1x14x14  | Conv, k=3, p=1 |\n",
    "| 32x14x14 | MaxP, k=3, s=1 |\n",
    "| 32x12x12 | Conv, k=3, p=1 |\n",
    "| 64x12x12 | MaxP, k=2, s=2 |\n",
    "| 64x6x6   | Flatten        |\n",
    "| 2304     | Lin, 2304->64  |\n",
    "| 64       | Lin, 64->10    |\n",
    "| 10       |                |"
   ]
  },
  {
   "cell_type": "code",
   "execution_count": 4,
   "metadata": {},
   "outputs": [],
   "source": [
    "class BaselineNet(nn.Module):\n",
    "    # Init method\n",
    "    def __init__(self, use_weight_sharing_, use_auxiliary_loss_):\n",
    "        super().__init__()\n",
    "        self.use_weight_sharing = use_weight_sharing_\n",
    "        self.use_auxiliary_loss = use_auxiliary_loss_\n",
    "        self.conv_out = 64*6*6\n",
    "        \n",
    "        # X1\n",
    "        self.x1_conv1 = nn.Conv2d(1, 32, kernel_size=3, padding=1)\n",
    "        self.x1_conv2 = nn.Conv2d(32, 64, kernel_size=3, padding=1)\n",
    "        self.x1_fc1 = nn.Linear(self.conv_out, 64)\n",
    "        self.x1_fc2 = nn.Linear(64, 10)\n",
    "        \n",
    "        # X2\n",
    "        if not self.use_weight_sharing:\n",
    "            self.x2_conv1 = nn.Conv2d(1, 32, kernel_size=3, padding=1)\n",
    "            self.x2_conv2 = nn.Conv2d(32, 64, kernel_size=3, padding=1)\n",
    "            self.x2_fc1 = nn.Linear(self.conv_out, 64)\n",
    "            self.x2_fc2 = nn.Linear(64, 10)\n",
    "        \n",
    "        # Combine\n",
    "        self.comp_fc1 = nn.Linear(20, 100)\n",
    "        self.comp_fc2 = nn.Linear(100, 50)\n",
    "        self.comp_fc3 = nn.Linear(50, 2)\n",
    "        # Dropout\n",
    "        self.dropout=nn.Dropout()\n",
    "        \n",
    "    # Forward method    \n",
    "    def forward(self, x):\n",
    "        # X1\n",
    "        x1 = F.relu(F.max_pool2d(self.x1_conv1(x[:,0:1]), kernel_size=3, stride=1))\n",
    "        x1 = F.relu(F.max_pool2d(self.x1_conv2(x1), kernel_size=2, stride=2))\n",
    "        x1 = x1.reshape(x1.size(0), -1)\n",
    "        x1 = self.dropout(F.relu(self.x1_fc1(x1)))\n",
    "        x1 = self.x1_fc2(x1)\n",
    "        \n",
    "        # X2\n",
    "        if not self.use_weight_sharing:\n",
    "            x2 = F.relu(F.max_pool2d(self.x2_conv1(x[:,1:2]), kernel_size=3, stride=1))\n",
    "            x2 = F.relu(F.max_pool2d(self.x2_conv2(x2), kernel_size=2, stride=2))\n",
    "            x2 = x2.reshape(x2.size(0), -1)\n",
    "            x2 = self.dropout(F.relu(self.x2_fc1(x2)))\n",
    "            x2 = self.x2_fc2(x2)\n",
    "        else: \n",
    "            x2 = F.relu(F.max_pool2d(self.x1_conv1(x[:,1:2]), kernel_size=3, stride=1))\n",
    "            x2 = F.relu(F.max_pool2d(self.x1_conv2(x2), kernel_size=2, stride=2))\n",
    "            x2 = x2.reshape(x2.size(0), -1)\n",
    "            x2 = self.dropout(F.relu(self.x1_fc1(x2)))\n",
    "            x2 = self.x1_fc2(x2)          \n",
    "        \n",
    "        # Combine\n",
    "        x = F.relu(self.comp_fc1(torch.cat((x1, x2), 1)))\n",
    "        x = F.relu(self.comp_fc2(x))\n",
    "        x = self.comp_fc3(x)\n",
    "        if self.use_auxiliary_loss:\n",
    "            return x, x1, x2\n",
    "        else:\n",
    "            return x"
   ]
  },
  {
   "cell_type": "markdown",
   "metadata": {},
   "source": [
    "### AlexNet-like Convolutional Model"
   ]
  },
  {
   "cell_type": "markdown",
   "metadata": {},
   "source": [
    "For Conv2D, MaxPool2D => See sizing rules on PyTorch page.\n",
    "\n",
    "| Datasize | Operation      |\n",
    "| ---------| ---------------|\n",
    "| 1x14x14  | Conv, k=6, p=1 |\n",
    "| 32x11x11 | MaxP, k=2, s=2 |\n",
    "| 32x5x5   | Conv, k=2, p=1 |\n",
    "| 85x5x5   | MaxP, k=2, s=2 |\n",
    "| 85x2x2   | Conv, k=3, p=1 | \n",
    "| 128x2x2  | Conv, k=3, p=1 | \n",
    "| 128x2x2  | Conv, k=3, p=1 | \n",
    "| 85x2x2   | MaxP, k=2, s=2 |\n",
    "| 85x1x1   | Flatten        |\n",
    "| 85       | Lin, 85->85    |\n",
    "| 85       | Lin, 85->10    |\n",
    "| 10       |                |"
   ]
  },
  {
   "cell_type": "code",
   "execution_count": 5,
   "metadata": {},
   "outputs": [],
   "source": [
    "class AlexNet(nn.Module):\n",
    "    # Init method\n",
    "    def __init__(self, use_weight_sharing_, use_auxiliary_loss_):\n",
    "        super().__init__()\n",
    "        self.use_weight_sharing = use_weight_sharing_\n",
    "        self.use_auxiliary_loss = use_auxiliary_loss_\n",
    "        self.conv_out = 85\n",
    "        \n",
    "        # X1\n",
    "        self.x1_conv1 = nn.Conv2d(1, 32, kernel_size=6, padding=1)\n",
    "        self.x1_conv2 = nn.Conv2d(32, 85, kernel_size=2, padding=1)\n",
    "        self.x1_nest1 = nn.Conv2d(85, 128, kernel_size=3, padding=1)\n",
    "        self.x1_nest2 = nn.Conv2d(128, 128, kernel_size=3, padding=1)\n",
    "        self.x1_nest3 = nn.Conv2d(128, 85, kernel_size=3, padding=1)\n",
    "        self.x1_fc1 = nn.Linear(self.conv_out, self.conv_out)\n",
    "        self.x1_fc2 = nn.Linear(self.conv_out, 10)\n",
    "        \n",
    "        # X2\n",
    "        if not self.use_weight_sharing:\n",
    "            self.x2_conv1 = nn.Conv2d(1, 32, kernel_size=6, padding=1)\n",
    "            self.x2_conv2 = nn.Conv2d(32, 85, kernel_size=2, padding=1)\n",
    "            self.x2_nest1 = nn.Conv2d(85, 128, kernel_size=3, padding=1)\n",
    "            self.x2_nest2 = nn.Conv2d(128, 128, kernel_size=3, padding=1)\n",
    "            self.x2_nest3 = nn.Conv2d(128, 85, kernel_size=3, padding=1)\n",
    "            self.x2_fc1 = nn.Linear(self.conv_out, self.conv_out)\n",
    "            self.x2_fc2 = nn.Linear(self.conv_out, 10)\n",
    "        \n",
    "        # Combine\n",
    "        self.comp_fc1 = nn.Linear(20, 100)\n",
    "        self.comp_fc2 = nn.Linear(100, 50)\n",
    "        self.comp_fc3 = nn.Linear(50, 2)\n",
    "        # Dropout\n",
    "        self.dropout=nn.Dropout()\n",
    "        \n",
    "    # Forward method    \n",
    "    def forward(self, x):\n",
    "        # X1\n",
    "        x1 = F.relu(F.max_pool2d(self.x1_conv1(x[:,0:1]), kernel_size=2, stride=2))\n",
    "        x1 = F.relu(F.max_pool2d(self.x1_conv2(x1), kernel_size=2, stride=2))\n",
    "        x1 = F.relu(F.max_pool2d(self.x1_nest3(self.x1_nest2(self.x1_nest1(x1))), kernel_size=2, stride=2))\n",
    "        x1 = x1.reshape(x1.size(0), -1)\n",
    "        x1 = self.dropout(F.relu(self.x1_fc1(x1)))   # use dropout?\n",
    "        x1 = self.x1_fc2(x1)\n",
    "        \n",
    "        # X2\n",
    "        if not self.use_weight_sharing:\n",
    "            x2 = F.relu(F.max_pool2d(self.x2_conv1(x[:,1:2]), kernel_size=2, stride=2))\n",
    "            x2 = F.relu(F.max_pool2d(self.x2_conv2(x2), kernel_size=2, stride=2))\n",
    "            x2 = F.relu(F.max_pool2d(self.x2_nest3(self.x2_nest2(self.x2_nest1(x2))), kernel_size=2, stride=2))\n",
    "            x2 = x2.reshape(x2.size(0), -1)\n",
    "            x2 = self.dropout(F.relu(self.x2_fc1(x2)))   # use dropout?\n",
    "            x2 = self.x2_fc2(x2)\n",
    "        else: \n",
    "            x2 = F.relu(F.max_pool2d(self.x1_conv1(x[:,1:2]), kernel_size=2, stride=2))\n",
    "            x2 = F.relu(F.max_pool2d(self.x1_conv2(x2), kernel_size=2, stride=2))\n",
    "            x2 = F.relu(F.max_pool2d(self.x1_nest3(self.x1_nest2(self.x1_nest1(x2))), kernel_size=2, stride=2))\n",
    "            x2 = x2.reshape(x2.size(0), -1)\n",
    "            x2 = self.dropout(F.relu(self.x1_fc1(x2)))   # use dropout?\n",
    "            x2 = self.x1_fc2(x2)\n",
    "        \n",
    "        # Combine\n",
    "        x = F.relu(self.comp_fc1(torch.cat((x1, x2), 1)))\n",
    "        x = F.relu(self.comp_fc2(x))\n",
    "        x = self.comp_fc3(x)\n",
    "        if self.use_auxiliary_loss:\n",
    "            return x, x1, x2 \n",
    "        else:\n",
    "            return x"
   ]
  },
  {
   "cell_type": "markdown",
   "metadata": {},
   "source": [
    "### Residual Network Convolutional Model"
   ]
  },
  {
   "cell_type": "markdown",
   "metadata": {},
   "source": [
    "For Conv2D, MaxPool2D => See sizing rules on PyTorch page.\n",
    "\n",
    "| Datasize | Operation      |\n",
    "| ---------| ---------------|\n",
    "| 1x14x14  | Conv, k=1      |\n",
    "| 32x14x14 | ResBlocks seq  |\n",
    "| 32x14x14 | AvgP, k=14     |\n",
    "| 32x1x1   | Flatten        |\n",
    "| 32       | Lin, 32->10    |\n",
    "| 10       |                |"
   ]
  },
  {
   "cell_type": "markdown",
   "metadata": {},
   "source": [
    "Shown below is the ResBlock:\n",
    "![ResBlock](tmpResBlock.jpg \"ResBlock\")"
   ]
  },
  {
   "cell_type": "code",
   "execution_count": 6,
   "metadata": {},
   "outputs": [],
   "source": [
    "# To be used in the Residual Network\n",
    "class ResBlock(nn.Module):\n",
    "    def __init__(self, nb_channels, kernel_size):\n",
    "        super().__init__()\n",
    "        \n",
    "        self.conv1 = nn.Conv2d(nb_channels, nb_channels, kernel_size, padding = (kernel_size-1)//2)\n",
    "        self.bn1 = nn.BatchNorm2d(nb_channels)\n",
    "        self.conv2 = nn.Conv2d(nb_channels, nb_channels, kernel_size, padding = (kernel_size-1)//2)\n",
    "        self.bn2 = nn.BatchNorm2d(nb_channels)\n",
    "        \n",
    "    def forward(self, x):\n",
    "        y = self.bn1(self.conv1(x))\n",
    "        y = F.relu(y)\n",
    "        y = self.bn2(self.conv2(y))\n",
    "        y += x\n",
    "        y = F.relu(y)\n",
    "        return y"
   ]
  },
  {
   "cell_type": "code",
   "execution_count": 7,
   "metadata": {},
   "outputs": [],
   "source": [
    "class ResNet(nn.Module):\n",
    "    # Init method\n",
    "    def __init__(self, use_weight_sharing_, use_auxiliary_loss_):\n",
    "        super().__init__()\n",
    "        self.use_weight_sharing = use_weight_sharing_\n",
    "        self.use_auxiliary_loss = use_auxiliary_loss_\n",
    "        self.rb_kernel_size = 3  # Odd size expected\n",
    "        self.nb_blocks = 4\n",
    "        \n",
    "        # X1\n",
    "        self.x1_conv0 = nn.Conv2d(1, 32, kernel_size=1)\n",
    "        self.x1_resblocks = nn.Sequential(*(ResBlock(32, self.rb_kernel_size) for _ in range(self.nb_blocks)))\n",
    "        self.x1_avg = nn.AvgPool2d(kernel_size=14)\n",
    "        self.x1_fc = nn.Linear(32, 10)\n",
    "        \n",
    "        # X2\n",
    "        if not self.use_weight_sharing:\n",
    "            self.x2_conv0 = nn.Conv2d(1, 32, kernel_size=1)\n",
    "            self.x2_resblocks = nn.Sequential(*(ResBlock(32, self.rb_kernel_size) for _ in range(self.nb_blocks)))\n",
    "            self.x2_avg = nn.AvgPool2d(kernel_size=14)\n",
    "            self.x2_fc = nn.Linear(32, 10)\n",
    "            \n",
    "        # Combine\n",
    "        self.comp_fc1 = nn.Linear(20, 100)\n",
    "        self.comp_fc2 = nn.Linear(100, 50)\n",
    "        self.comp_fc3 = nn.Linear(50, 2)\n",
    "        # Dropout\n",
    "        self.dropout=nn.Dropout()\n",
    "        \n",
    "    # Forward method\n",
    "    def forward(self, x):\n",
    "        # X1\n",
    "        x1 = F.relu(self.x1_conv0(x[:,0:1]))\n",
    "        x1 = self.x1_resblocks(x1)\n",
    "        x1 = F.relu(self.x1_avg(x1))\n",
    "        x1 = x1.view(x1.size(0), -1)\n",
    "        x1 = self.x1_fc(x1)\n",
    "        \n",
    "        # X2\n",
    "        if not self.use_weight_sharing:\n",
    "            x2 = F.relu(self.x2_conv0(x[:,1:2]))\n",
    "            x2 = self.x2_resblocks(x2)\n",
    "            x2 = F.relu(self.x2_avg(x2))\n",
    "            x2 = x2.view(x2.size(0), -1)\n",
    "            x2 = self.x2_fc(x2)\n",
    "        else:\n",
    "            x2 = F.relu(self.x1_conv0(x[:,1:2]))\n",
    "            x2 = self.x1_resblocks(x2)\n",
    "            x2 = F.relu(self.x1_avg(x2))\n",
    "            x2 = x2.view(x2.size(0), -1)\n",
    "            x2 = self.x1_fc(x2)\n",
    "            \n",
    "        # Combine\n",
    "        x = F.relu(self.comp_fc1(torch.cat((x1, x2), 1)))\n",
    "        x = F.relu(self.comp_fc2(x))\n",
    "        x = self.comp_fc3(x)\n",
    "        if self.use_auxiliary_loss:\n",
    "            return x, x1, x2 \n",
    "        else:\n",
    "            return x"
   ]
  },
  {
   "cell_type": "markdown",
   "metadata": {},
   "source": [
    "# Methods for Training and Testing"
   ]
  },
  {
   "cell_type": "markdown",
   "metadata": {},
   "source": [
    "## Train Model"
   ]
  },
  {
   "cell_type": "code",
   "execution_count": 8,
   "metadata": {},
   "outputs": [],
   "source": [
    "def train_model(model_type, train_input, train_target, train_classes, test_input, test_target, test_classes, mini_batch_size, nb_epochs, nb_iterations):\n",
    "    # Initialize model parameters\n",
    "    model = None\n",
    "    eta = 1e-1\n",
    "    alpha = 0.1\n",
    "    net_types = [(False, False), (True, False), (False, True), (True, True)]\n",
    "    \n",
    "    # Iterate for four possible cases\n",
    "    for (use_weight_sharing, use_auxiliary_loss) in net_types:\n",
    "        print(\"Training\", \"-\"*100)\n",
    "        print(\"Using Weight Sharing:\", use_weight_sharing)\n",
    "        print(\"Using Auxiliary Loss:\", use_auxiliary_loss)        \n",
    "        #\n",
    "        #total_errors = 0.0\n",
    "        all_errors = torch.empty(nb_iterations)\n",
    "        # Iterate for performance estimation\n",
    "        for k in range(nb_iterations):\n",
    "            # Define the training model\n",
    "            if model_type == \"baseline\":\n",
    "                model = BaselineNet(use_weight_sharing, use_auxiliary_loss)\n",
    "            elif model_type == \"alex\":\n",
    "                model = AlexNet(use_weight_sharing, use_auxiliary_loss)\n",
    "            elif model_type == \"residual\":\n",
    "                model = ResNet(use_weight_sharing, use_auxiliary_loss)\n",
    "            elif model_type == \"deep\":\n",
    "                model = DeepNet(use_weight_sharing, use_auxiliary_loss) # Undefined\n",
    "            elif model_type == \"very_deep\":\n",
    "                model = VeryDeepNet(use_weight_sharing, use_auxiliary_loss) # Undefined\n",
    "            model.to(device)\n",
    "            #\n",
    "            optimizer= torch.optim.SGD(model.parameters(), lr = eta)\n",
    "            criterion = nn.CrossEntropyLoss()\n",
    "            \n",
    "            # Iterate over several epochs\n",
    "            for e in range(nb_epochs):\n",
    "                # Iterate over mini-batches\n",
    "                for b in range(0, train_input.size(0), mini_batch_size):\n",
    "                    if use_auxiliary_loss:\n",
    "                        output, output2, output3 = model(train_input.narrow(0, b, mini_batch_size).to(device))\n",
    "                        loss1 = criterion(output, train_target.narrow(0, b, mini_batch_size).to(device))\n",
    "                        loss2 = criterion(output2, train_classes[:, 0].narrow(0, b, mini_batch_size).to(device))\n",
    "                        loss3 = criterion(output3, train_classes[:, 1].narrow(0, b, mini_batch_size).to(device))\n",
    "                        # Loss = weighted average of the three losses\n",
    "                        loss = (1-alpha)*loss1 + alpha*(loss2 + loss3)\n",
    "                    else:\n",
    "                        output = model(train_input.narrow(0, b, mini_batch_size).to(device))\n",
    "                        loss = criterion(output, train_target.narrow(0, b, mini_batch_size).to(device))\n",
    "                    # Backprop\n",
    "                    optimizer.zero_grad()\n",
    "                    loss.backward()\n",
    "                    optimizer.step()\n",
    "            \n",
    "            # Compute number of errors\n",
    "            if use_auxiliary_loss:\n",
    "                (nb_errors, nb_errors2, nb_errors3) = compute_nb_errors(model, test_input, test_target, test_classes)\n",
    "                error = (100 * nb_errors) / test_input.size(0)\n",
    "                error2 = (100 * nb_errors2) / test_classes.size(0)\n",
    "                error3 = (100 * nb_errors3) / test_classes.size(0)\n",
    "                print('test error Net {:0.2f}% {:d}/{:d}'.format(error, nb_errors, test_input.size(0)))\n",
    "                print('test error X1 {:0.2f}% {:d}/{:d}'.format(error2, nb_errors2, test_classes.size(0))) # Originally test_targets\n",
    "                print('test error X2 {:0.2f}% {:d}/{:d}'.format(error3, nb_errors3, test_classes.size(0))) \n",
    "            else:\n",
    "                nb_errors = compute_nb_errors(model, test_input, test_target, test_classes)\n",
    "                error = (100 * nb_errors) / test_input.size(0)\n",
    "                print('test error Net {:0.2f}% {:d}/{:d}'.format(error, nb_errors, test_input.size(0)))\n",
    "            #\n",
    "            #total_errors += nb_errors\n",
    "            all_errors[k] = error\n",
    "        #\n",
    "        print('Standard Deviation: {:0.2f}%'.format(all_errors.std().item()))\n",
    "        print('Mean Error: {:0.2f}%'.format(all_errors.mean().item()))\n",
    "        #print(\"Avg. Error: \", (total_errors/(10*nb_iterations)), \"%\")"
   ]
  },
  {
   "cell_type": "markdown",
   "metadata": {},
   "source": [
    "## Count Errors"
   ]
  },
  {
   "cell_type": "code",
   "execution_count": 9,
   "metadata": {},
   "outputs": [],
   "source": [
    "# Compute number of errors\n",
    "def compute_nb_errors(model, test_input, test_target, test_classes):\n",
    "    device = torch.device('cuda' if torch.cuda.is_available() else 'cpu')\n",
    "        \n",
    "    nb_errors = 0\n",
    "    if model.use_auxiliary_loss:\n",
    "        o1, o2, o3 = model(test_input.to(device))\n",
    "    else:\n",
    "        o1 = model(test_input.to(device))\n",
    "    #\n",
    "    output1 = torch.argmax(o1, dim = 1)\n",
    "    expected1 = test_target.to(device)\n",
    "    nb_errors = torch.count_nonzero((expected1 != output1))\n",
    "    #\n",
    "    if model.use_auxiliary_loss:\n",
    "        output2 = torch.argmax(o2, dim = 1)\n",
    "        expected2 = test_classes[:,0].to(device)\n",
    "        nb_errors2 = torch.count_nonzero((expected2 != output2))\n",
    "        output3 = torch.argmax(o3, dim = 1)\n",
    "        expected3 = test_classes[:,1].to(device)\n",
    "        nb_errors3 = torch.count_nonzero((expected3 != output3))\n",
    "        return (nb_errors, nb_errors2, nb_errors3)\n",
    "    else:\n",
    "         return nb_errors"
   ]
  },
  {
   "cell_type": "markdown",
   "metadata": {},
   "source": [
    "# Deployment"
   ]
  },
  {
   "cell_type": "markdown",
   "metadata": {},
   "source": [
    "### BaselineNet"
   ]
  },
  {
   "cell_type": "code",
   "execution_count": 10,
   "metadata": {},
   "outputs": [],
   "source": [
    "# # Initialize parameters\n",
    "# device = torch.device('cuda' if torch.cuda.is_available() else 'cpu')\n",
    "# model_type = 'baseline'\n",
    "# nb_iterations = 10\n",
    "# nb_epochs = 50\n",
    "# mini_batch_size = 100\n",
    "# # Use normalised inputs\n",
    "# m1 = train_input.mean()\n",
    "# s1 = train_input.std()\n",
    "# norm_train_input = train_input.sub_(m1).div_(s1)\n",
    "# norm_test_input = test_input.sub_(m1).div_(s1)\n",
    "# #\n",
    "# print('Using device:', device)\n",
    "# train_model(model_type, norm_train_input, train_target, train_classes, norm_test_input, test_target, test_classes, \n",
    "#             mini_batch_size, nb_epochs, nb_iterations)"
   ]
  },
  {
   "cell_type": "markdown",
   "metadata": {},
   "source": [
    "### AlexNet"
   ]
  },
  {
   "cell_type": "code",
   "execution_count": 11,
   "metadata": {},
   "outputs": [],
   "source": [
    "# # Initialize parameters\n",
    "# device = torch.device('cuda' if torch.cuda.is_available() else 'cpu')\n",
    "# model_type = 'alex'\n",
    "# nb_iterations = 10\n",
    "# nb_epochs = 50\n",
    "# mini_batch_size = 100\n",
    "# # Use normalised inputs\n",
    "# m1 = train_input.mean()\n",
    "# s1 = train_input.std()\n",
    "# norm_train_input = train_input.sub_(m1).div_(s1)\n",
    "# norm_test_input = test_input.sub_(m1).div_(s1)\n",
    "# #\n",
    "# print('Using device:', device)\n",
    "# train_model(model_type, norm_train_input, train_target, train_classes, norm_test_input, test_target, test_classes, \n",
    "#             mini_batch_size, nb_epochs, nb_iterations)"
   ]
  },
  {
   "cell_type": "markdown",
   "metadata": {},
   "source": [
    "### ResNet"
   ]
  },
  {
   "cell_type": "code",
   "execution_count": 12,
   "metadata": {},
   "outputs": [],
   "source": [
    "# # Initialize parameters\n",
    "# device = torch.device('cuda' if torch.cuda.is_available() else 'cpu')\n",
    "# model_type = 'residual'\n",
    "# nb_iterations = 10\n",
    "# nb_epochs = 50\n",
    "# mini_batch_size = 100\n",
    "# # Use normalised inputs\n",
    "# m1 = train_input.mean()\n",
    "# s1 = train_input.std()\n",
    "# norm_train_input = train_input.sub_(m1).div_(s1)\n",
    "# norm_test_input = test_input.sub_(m1).div_(s1)\n",
    "# #\n",
    "# print('Using device:', device)\n",
    "# train_model(model_type, norm_train_input, train_target, train_classes, norm_test_input, test_target, test_classes, \n",
    "#             mini_batch_size, nb_epochs, nb_iterations)"
   ]
  },
  {
   "cell_type": "markdown",
   "metadata": {},
   "source": [
    "# Part below not to be submitted"
   ]
  },
  {
   "cell_type": "code",
   "execution_count": 13,
   "metadata": {},
   "outputs": [
    {
     "name": "stdout",
     "output_type": "stream",
     "text": [
      "Using device: cpu\n",
      "Training ----------------------------------------------------------------------------------------------------\n",
      "Using Weight Sharing: False\n",
      "Using Auxiliary Loss: False\n",
      "test error Net 60.00% 6/10\n",
      "test error Net 60.00% 6/10\n",
      "test error Net 60.00% 6/10\n",
      "Standard Deviation: 0.00%\n",
      "Mean Error: 60.00%\n",
      "Training ----------------------------------------------------------------------------------------------------\n",
      "Using Weight Sharing: True\n",
      "Using Auxiliary Loss: False\n",
      "test error Net 60.00% 6/10\n",
      "test error Net 60.00% 6/10\n",
      "test error Net 60.00% 6/10\n",
      "Standard Deviation: 0.00%\n",
      "Mean Error: 60.00%\n",
      "Training ----------------------------------------------------------------------------------------------------\n",
      "Using Weight Sharing: False\n",
      "Using Auxiliary Loss: True\n",
      "test error Net 60.00% 6/10\n",
      "test error X1 80.00% 8/10\n",
      "test error X2 90.00% 9/10\n",
      "test error Net 60.00% 6/10\n",
      "test error X1 90.00% 9/10\n",
      "test error X2 70.00% 7/10\n",
      "test error Net 60.00% 6/10\n",
      "test error X1 80.00% 8/10\n",
      "test error X2 90.00% 9/10\n",
      "Standard Deviation: 0.00%\n",
      "Mean Error: 60.00%\n",
      "Training ----------------------------------------------------------------------------------------------------\n",
      "Using Weight Sharing: True\n",
      "Using Auxiliary Loss: True\n",
      "test error Net 60.00% 6/10\n",
      "test error X1 90.00% 9/10\n",
      "test error X2 90.00% 9/10\n",
      "test error Net 60.00% 6/10\n",
      "test error X1 100.00% 10/10\n",
      "test error X2 70.00% 7/10\n",
      "test error Net 60.00% 6/10\n",
      "test error X1 100.00% 10/10\n",
      "test error X2 80.00% 8/10\n",
      "Standard Deviation: 0.00%\n",
      "Mean Error: 60.00%\n"
     ]
    }
   ],
   "source": [
    "# For development purposes\n",
    "device = torch.device('cuda' if torch.cuda.is_available() else 'cpu')\n",
    "model_type = 'residual'\n",
    "nb_iterations = 3\n",
    "nb_epochs = 10\n",
    "mini_batch_size = 2\n",
    "#\n",
    "ex_train_input = train_input[0:10]\n",
    "ex_train_target = train_target[0:10]\n",
    "ex_train_classes = train_classes[0:10]\n",
    "#\n",
    "ex_test_input = test_input[0:10]\n",
    "ex_test_target = test_target[0:10]\n",
    "ex_test_classes = test_classes[0:10]\n",
    "#\n",
    "print('Using device:', device)\n",
    "train_model(model_type, ex_train_input, ex_train_target, ex_train_classes, ex_test_input, ex_test_target, ex_test_classes, \n",
    "            mini_batch_size, nb_epochs, nb_iterations)"
   ]
  },
  {
   "cell_type": "code",
   "execution_count": 14,
   "metadata": {},
   "outputs": [],
   "source": [
    "# # Without normalisation\n",
    "# device = torch.device('cuda' if torch.cuda.is_available() else 'cpu')\n",
    "# model_type = 'shallow'\n",
    "# nb_iterations = 10\n",
    "# nb_epochs = 50\n",
    "# mini_batch_size = 100\n",
    "# #\n",
    "# print('Using device:', device)\n",
    "# train_model(model_type, train_input, train_target, train_classes, test_input, test_target, test_classes, \n",
    "#             mini_batch_size, nb_epochs, nb_iterations)"
   ]
  },
  {
   "cell_type": "code",
   "execution_count": 15,
   "metadata": {},
   "outputs": [],
   "source": [
    "# m1 = train_input.mean()\n",
    "# s1 = train_input.std()\n",
    "# x_train=train_input.sub_(m1).div_(s1)\n",
    "# x_test=test_input.sub_(m1).div_(s1)\n",
    "\n",
    "# def execute_norm(model_nm, nb_iterations, nb_epochs=20):\n",
    "#     model=None\n",
    "#     nb_epochs = nb_epochs\n",
    "#     mini_batch_size = 50\n",
    "#     eta = 1e-1\n",
    "#     use_gpu=True\n",
    "#     tot_err=0\n",
    "#     for k in range(nb_iterations):\n",
    "#         if(model_nm==\"base\"):\n",
    "#             model = Baseline_Net()\n",
    "#         else:\n",
    "#             model = WtSharing_Net()\n",
    "#         optimizer = torch.optim.SGD(model.parameters(), lr = eta)\n",
    "#         criterion = nn.CrossEntropyLoss()#MSELoss()\n",
    "#         train_model(model, x_train, train_target, train_classes, mini_batch_size, optimizer, criterion, nb_epochs, use_gpu)\n",
    "#         nb_test_errors = compute_nb_errors(model, x_test, test_target, test_classes, mini_batch_size,use_gpu)\n",
    "#         tot_err+=nb_test_errors\n",
    "#         print('test error Net {:0.2f}% {:d}/{:d}'.format((100 * nb_test_errors) / x_test.size(0),\n",
    "#                                                       nb_test_errors, x_test.size(0)))\n",
    "#     print(\"Avg. Error: \",(tot_err/(10*nb_iterations)), \"%\")    \n"
   ]
  },
  {
   "cell_type": "code",
   "execution_count": 16,
   "metadata": {},
   "outputs": [],
   "source": [
    "# from torchsummary import summary\n",
    "# print(summary(model_base.to(\"cuda\"),input_size=(2, 14, 14)))\n",
    "# print(summary(model_ws.to(\"cuda\"),input_size=(2, 14, 14)))"
   ]
  },
  {
   "cell_type": "code",
   "execution_count": 17,
   "metadata": {},
   "outputs": [],
   "source": [
    "# !pip install torchsummary "
   ]
  }
 ],
 "metadata": {
  "kernelspec": {
   "display_name": "Python [conda env:dl_pytorch]",
   "language": "python",
   "name": "conda-env-dl_pytorch-py"
  },
  "language_info": {
   "codemirror_mode": {
    "name": "ipython",
    "version": 3
   },
   "file_extension": ".py",
   "mimetype": "text/x-python",
   "name": "python",
   "nbconvert_exporter": "python",
   "pygments_lexer": "ipython3",
   "version": "3.7.10"
  }
 },
 "nbformat": 4,
 "nbformat_minor": 4
}
