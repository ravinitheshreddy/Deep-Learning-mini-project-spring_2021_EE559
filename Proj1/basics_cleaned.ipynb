{
 "cells": [
  {
   "cell_type": "code",
   "execution_count": 1,
   "metadata": {},
   "outputs": [],
   "source": [
    "# PyTorch imports\n",
    "import torch\n",
    "from torch import nn\n",
    "from torch import optim\n",
    "from torch.nn import functional as F\n",
    "# DLC Practical prologue\n",
    "import dlc_practical_prologue as prologue"
   ]
  },
  {
   "cell_type": "code",
   "execution_count": 2,
   "metadata": {},
   "outputs": [],
   "source": [
    "# Load data\n",
    "N = 1000\n",
    "train_input, train_target, train_classes, test_input, test_target, test_classes = prologue.generate_pair_sets(N)"
   ]
  },
  {
   "cell_type": "code",
   "execution_count": 3,
   "metadata": {},
   "outputs": [
    {
     "name": "stdout",
     "output_type": "stream",
     "text": [
      "Train input: torch.Size([1000, 2, 14, 14])\n",
      "Train target: torch.Size([1000])\n",
      "Train classes: torch.Size([1000, 2])\n",
      "... Same for test too\n"
     ]
    }
   ],
   "source": [
    "# Data sizes for reference\n",
    "print('Train input:', train_input.size())\n",
    "print('Train target:', train_target.size())\n",
    "print('Train classes:', train_classes.size())\n",
    "print('... Same for test too')"
   ]
  },
  {
   "cell_type": "code",
   "execution_count": 4,
   "metadata": {},
   "outputs": [],
   "source": [
    "# Baseline model - no WS, no AuxL\n",
    "class Baseline_Net(nn.Module):\n",
    "    def __init__(self):\n",
    "        super().__init__()\n",
    "        conv_out = 64\n",
    "        # X1\n",
    "        self.x1_conv1 = nn.Conv2d(1, 32, kernel_size=3)\n",
    "        self.x1_conv2 = nn.Conv2d(32, 64, kernel_size=3)\n",
    "        self.x1_fc1 = nn.Linear(conv_out, 32)\n",
    "        self.x1_fc2 = nn.Linear(32, 10)\n",
    "        # X2\n",
    "        self.x2_conv1 = nn.Conv2d(1, 32, kernel_size=3)\n",
    "        self.x2_conv2 = nn.Conv2d(32, 64, kernel_size=3)\n",
    "        self.x2_fc1 = nn.Linear(conv_out, 32)\n",
    "        self.x2_fc2 = nn.Linear(32, 10)\n",
    "        # Combine\n",
    "        self.comp_fc1 = nn.Linear(20, 64)\n",
    "        self.comp_fc2 = nn.Linear(64, 1)\n",
    "    \n",
    "    def forward(self, x):\n",
    "        conv_out = 64\n",
    "        # X1\n",
    "        x1 = F.relu(F.max_pool2d(self.x1_conv1(x[:, 0].view(-1, 1, 14, 14)), kernel_size=3, stride=3))\n",
    "        x1 = F.relu(F.max_pool2d(self.x1_conv2(x1), kernel_size=2, stride=2))\n",
    "        x1 = F.relu(self.x1_fc1(x1.view(-1, conv_out)))\n",
    "        x1 = F.relu(self.x1_fc2(x1))\n",
    "        # X2\n",
    "        x2 = F.relu(F.max_pool2d(self.x2_conv1(x[:, 1].view(-1, 1, 14, 14)), kernel_size=3, stride=3))\n",
    "        x2 = F.relu(F.max_pool2d(self.x2_conv2(x2), kernel_size=2, stride=2))\n",
    "        x2 = F.relu(self.x2_fc1(x2.view(-1, conv_out)))\n",
    "        x2 = F.relu(self.x2_fc2(x2))\n",
    "        # Combine\n",
    "        x = F.relu(self.comp_fc1(torch.cat((x1, x2), 1)))\n",
    "        x = torch.sigmoid(self.comp_fc2(x))\n",
    "        #\n",
    "        return x"
   ]
  },
  {
   "cell_type": "code",
   "execution_count": 5,
   "metadata": {},
   "outputs": [],
   "source": [
    "# Weight Sharing model - WS, no AuxL\n",
    "class WtSharing_Net(nn.Module):\n",
    "    def __init__(self):\n",
    "        super().__init__()\n",
    "        conv_out = 64\n",
    "        # Same for X1 and X2\n",
    "        self.x_conv1 = nn.Conv2d(1, 32, kernel_size=3)\n",
    "        self.x_conv2 = nn.Conv2d(32, 64, kernel_size=3)\n",
    "        self.x_fc1 = nn.Linear(conv_out, 32)\n",
    "        self.x_fc2 = nn.Linear(32, 10)\n",
    "        # Combine\n",
    "        self.comp_fc1 = nn.Linear(20, 64)\n",
    "        self.comp_fc2 = nn.Linear(64, 1)\n",
    "    \n",
    "    def forward(self, x):\n",
    "        conv_out = 64\n",
    "        # X1\n",
    "        x1 = F.relu(F.max_pool2d(self.x_conv1(x[:, 0].view(-1, 1, 14, 14)), kernel_size=3, stride=3))\n",
    "        x1 = F.relu(F.max_pool2d(self.x_conv2(x1), kernel_size=2, stride=2))\n",
    "        x1 = F.relu(self.x_fc1(x1.view(-1, conv_out)))\n",
    "        x1 = F.relu(self.x_fc2(x1))\n",
    "        # X2\n",
    "        x2 = F.relu(F.max_pool2d(self.x_conv1(x[:, 1].view(-1, 1, 14, 14)), kernel_size=3, stride=3))\n",
    "        x2 = F.relu(F.max_pool2d(self.x_conv2(x2), kernel_size=2, stride=2))\n",
    "        x2 = F.relu(self.x_fc1(x2.view(-1, conv_out)))\n",
    "        x2 = F.relu(self.x_fc2(x2))\n",
    "        # Combine\n",
    "        x = F.relu(self.comp_fc1(torch.cat((x1, x2), 1)))\n",
    "        x = torch.sigmoid(self.comp_fc2(x))\n",
    "        #\n",
    "        return x"
   ]
  },
  {
   "cell_type": "code",
   "execution_count": 6,
   "metadata": {},
   "outputs": [],
   "source": [
    "def train_model(model, train_input, train_target, train_classes, mini_batch_size, optimizer, criterion, nb_epochs):\n",
    "    for e in range(nb_epochs):\n",
    "        for b in range(0, train_input.size(0), mini_batch_size):\n",
    "            output = model(train_input.narrow(0, b, mini_batch_size))\n",
    "            loss = criterion(output, train_target.narrow(0, b, mini_batch_size).float())\n",
    "            # Note: train_classes unused\n",
    "            optimizer.zero_grad()\n",
    "            loss.backward()\n",
    "            optimizer.step()\n",
    "\n",
    "def compute_nb_errors(model, test_input, test_target, test_classes, mini_batch_size):\n",
    "    nb_errors = 0\n",
    "    output = model(test_input)\n",
    "    expected = test_target.view(-1, 1)\n",
    "    abs_diff = (expected - output).abs()\n",
    "    # Iterate for every entry in abs_diff\n",
    "    for val in abs_diff:\n",
    "        if (val.item() > 0.5):  # GT or GTE?\n",
    "            nb_errors += 1\n",
    "    #        \n",
    "    return nb_errors"
   ]
  },
  {
   "cell_type": "code",
   "execution_count": 7,
   "metadata": {},
   "outputs": [],
   "source": [
    "def execute(model, nb_iterations):\n",
    "    nb_epochs = 256\n",
    "    mini_batch_size = 50\n",
    "    eta = 1e-1\n",
    "    #\n",
    "    for k in range(nb_iterations):\n",
    "        optimizer = torch.optim.SGD(model.parameters(), lr = eta)\n",
    "        criterion = nn.MSELoss()\n",
    "        train_model(model, train_input, train_target, train_classes, mini_batch_size, optimizer, criterion, nb_epochs)\n",
    "        nb_test_errors = compute_nb_errors(model, test_input, test_target, test_classes, mini_batch_size)\n",
    "        print('test error Net {:0.2f}% {:d}/{:d}'.format((100 * nb_test_errors) / test_input.size(0),\n",
    "                                                      nb_test_errors, test_input.size(0)))"
   ]
  },
  {
   "cell_type": "code",
   "execution_count": 8,
   "metadata": {},
   "outputs": [
    {
     "name": "stderr",
     "output_type": "stream",
     "text": [
      "C:\\Users\\Kushagra\\anaconda3\\envs\\dl_pytorch\\lib\\site-packages\\torch\\nn\\modules\\loss.py:528: UserWarning: Using a target size (torch.Size([50])) that is different to the input size (torch.Size([50, 1])). This will likely lead to incorrect results due to broadcasting. Please ensure they have the same size.\n",
      "  return F.mse_loss(input, target, reduction=self.reduction)\n"
     ]
    },
    {
     "name": "stdout",
     "output_type": "stream",
     "text": [
      "test error Net 47.80% 478/1000\n"
     ]
    }
   ],
   "source": [
    "model_base = Baseline_Net()\n",
    "model_ws = WtSharing_Net()\n",
    "#\n",
    "execute(model_ws, 1)"
   ]
  }
 ],
 "metadata": {
  "kernelspec": {
   "display_name": "Python [conda env:dl_pytorch]",
   "language": "python",
   "name": "conda-env-dl_pytorch-py"
  },
  "language_info": {
   "codemirror_mode": {
    "name": "ipython",
    "version": 3
   },
   "file_extension": ".py",
   "mimetype": "text/x-python",
   "name": "python",
   "nbconvert_exporter": "python",
   "pygments_lexer": "ipython3",
   "version": "3.7.10"
  }
 },
 "nbformat": 4,
 "nbformat_minor": 4
}
